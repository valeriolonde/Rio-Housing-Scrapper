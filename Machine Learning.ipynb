{
 "cells": [
  {
   "cell_type": "markdown",
   "metadata": {},
   "source": []
  },
  {
   "cell_type": "code",
   "execution_count": 119,
   "metadata": {},
   "outputs": [
    {
     "data": {
      "text/html": [
       "<div>\n",
       "<style scoped>\n",
       "    .dataframe tbody tr th:only-of-type {\n",
       "        vertical-align: middle;\n",
       "    }\n",
       "\n",
       "    .dataframe tbody tr th {\n",
       "        vertical-align: top;\n",
       "    }\n",
       "\n",
       "    .dataframe thead th {\n",
       "        text-align: right;\n",
       "    }\n",
       "</style>\n",
       "<table border=\"1\" class=\"dataframe\">\n",
       "  <thead>\n",
       "    <tr style=\"text-align: right;\">\n",
       "      <th></th>\n",
       "      <th>Property Type</th>\n",
       "      <th>Total Rent</th>\n",
       "      <th>Area</th>\n",
       "      <th>Rooms</th>\n",
       "      <th>Bathrooms</th>\n",
       "      <th>Garage</th>\n",
       "      <th>Furnished</th>\n",
       "    </tr>\n",
       "  </thead>\n",
       "  <tbody>\n",
       "    <tr>\n",
       "      <th>0</th>\n",
       "      <td>Apartamento</td>\n",
       "      <td>1368</td>\n",
       "      <td>55</td>\n",
       "      <td>2</td>\n",
       "      <td>1</td>\n",
       "      <td>1.0</td>\n",
       "      <td>0</td>\n",
       "    </tr>\n",
       "    <tr>\n",
       "      <th>1</th>\n",
       "      <td>Apartamento</td>\n",
       "      <td>6012</td>\n",
       "      <td>140</td>\n",
       "      <td>5</td>\n",
       "      <td>2</td>\n",
       "      <td>1.0</td>\n",
       "      <td>1</td>\n",
       "    </tr>\n",
       "    <tr>\n",
       "      <th>2</th>\n",
       "      <td>Apartamento</td>\n",
       "      <td>3198</td>\n",
       "      <td>53</td>\n",
       "      <td>1</td>\n",
       "      <td>1</td>\n",
       "      <td>0.0</td>\n",
       "      <td>0</td>\n",
       "    </tr>\n",
       "    <tr>\n",
       "      <th>3</th>\n",
       "      <td>Apartamento</td>\n",
       "      <td>4075</td>\n",
       "      <td>61</td>\n",
       "      <td>2</td>\n",
       "      <td>1</td>\n",
       "      <td>0.0</td>\n",
       "      <td>0</td>\n",
       "    </tr>\n",
       "    <tr>\n",
       "      <th>4</th>\n",
       "      <td>Apartamento</td>\n",
       "      <td>2649</td>\n",
       "      <td>27</td>\n",
       "      <td>1</td>\n",
       "      <td>1</td>\n",
       "      <td>0.0</td>\n",
       "      <td>0</td>\n",
       "    </tr>\n",
       "  </tbody>\n",
       "</table>\n",
       "</div>"
      ],
      "text/plain": [
       "  Property Type  Total Rent  Area  Rooms  Bathrooms  Garage  Furnished\n",
       "0   Apartamento        1368    55      2          1     1.0          0\n",
       "1   Apartamento        6012   140      5          2     1.0          1\n",
       "2   Apartamento        3198    53      1          1     0.0          0\n",
       "3   Apartamento        4075    61      2          1     0.0          0\n",
       "4   Apartamento        2649    27      1          1     0.0          0"
      ]
     },
     "execution_count": 119,
     "metadata": {},
     "output_type": "execute_result"
    }
   ],
   "source": [
    "import pandas as pd\n",
    "import numpy as np\n",
    "\n",
    "from sklearn.model_selection import train_test_split,KFold\n",
    "from sklearn.metrics import mean_squared_error\n",
    "from sklearn.pipeline import Pipeline\n",
    "from sklearn.compose import ColumnTransformer\n",
    "from sklearn.preprocessing import StandardScaler, OneHotEncoder\n",
    "from sklearn.linear_model import Ridge, Lasso,LinearRegression\n",
    "\n",
    "import warnings\n",
    "\n",
    "# Suprimir DeprecationWarnings\n",
    "warnings.filterwarnings(\"ignore\", category=DeprecationWarning)\n",
    "\n",
    "\n",
    "# Carregar o dataset\n",
    "df = pd.read_csv(\"C:/github/Rio-Housing-Scrapper/Data(29-09_2023)/df_cleaned_final.csv\")\n",
    "\n",
    "# Excluir as colunas \"Rent\" e \"Address\"\n",
    "df = df.drop(columns=[\"Rent\", \"Address\", \"Region\"])\n",
    "\n",
    "# Exibir as primeiras linhas do dataframe\n",
    "df.head()"
   ]
  },
  {
   "cell_type": "code",
   "execution_count": 120,
   "metadata": {},
   "outputs": [
    {
     "data": {
      "text/plain": [
       "((1929, 6), (643, 6), (1929,), (643,))"
      ]
     },
     "execution_count": 120,
     "metadata": {},
     "output_type": "execute_result"
    }
   ],
   "source": [
    "# Definir variáveis independentes (features) e a variável dependente (target)\n",
    "X = df.drop(\"Total Rent\", axis=1)\n",
    "y = df[\"Total Rent\"]\n",
    "\n",
    "# Dividir os dados em conjuntos de treino e teste (75% treino, 25% teste)\n",
    "X_train, X_test, y_train, y_test = train_test_split(X, y, test_size = 0.25, random_state=42)\n",
    "\n",
    "# Exibir o tamanho dos conjuntos de treino e teste\n",
    "X_train.shape, X_test.shape, y_train.shape, y_test.shape"
   ]
  },
  {
   "cell_type": "code",
   "execution_count": 121,
   "metadata": {},
   "outputs": [
    {
     "name": "stdout",
     "output_type": "stream",
     "text": [
      "MSE: 4222621.87842033\n"
     ]
    }
   ],
   "source": [
    "# Aplicar codificação one-hot à coluna 'Property Type'\n",
    "X_train = pd.get_dummies(X_train, columns=['Property Type'], drop_first=True)\n",
    "X_test = pd.get_dummies(X_test, columns=['Property Type'], drop_first=True)\n",
    "\n",
    "# Treinar o modelo de regressão linear novamente\n",
    "linear_model = LinearRegression()\n",
    "linear_model.fit(X_train, y_train)\n",
    "\n",
    "# Prever valores no conjunto de teste e calcular MSE\n",
    "y_pred = linear_model.predict(X_test)\n",
    "mse = mean_squared_error(y_test, y_pred)\n",
    "print(\"MSE:\", mse)\n"
   ]
  },
  {
   "cell_type": "code",
   "execution_count": 122,
   "metadata": {},
   "outputs": [
    {
     "data": {
      "text/plain": [
       "(4223666.3499856815, 4224117.062425409)"
      ]
     },
     "execution_count": 122,
     "metadata": {},
     "output_type": "execute_result"
    }
   ],
   "source": [
    "# Treinar o modelo de Regressão Ridge\n",
    "ridge_model = Ridge()\n",
    "ridge_model.fit(X_train, y_train)\n",
    "\n",
    "# Prever valores no conjunto de teste e calcular MSE para Regressão Ridge\n",
    "y_pred_ridge = ridge_model.predict(X_test)\n",
    "mse_ridge = mean_squared_error(y_test, y_pred_ridge)\n",
    "\n",
    "# Treinar o modelo de Regressão Lasso\n",
    "lasso_model = Lasso()\n",
    "lasso_model.fit(X_train, y_train)\n",
    "\n",
    "# Prever valores no conjunto de teste e calcular MSE para Regressão Lasso\n",
    "y_pred_lasso = lasso_model.predict(X_test)\n",
    "mse_lasso = mean_squared_error(y_test, y_pred_lasso)\n",
    "\n",
    "mse_ridge, mse_lasso"
   ]
  },
  {
   "cell_type": "markdown",
   "metadata": {},
   "source": [
    "Tratar agora considerando região"
   ]
  },
  {
   "cell_type": "code",
   "execution_count": 123,
   "metadata": {},
   "outputs": [
    {
     "data": {
      "text/plain": [
       "((1929, 7), (643, 7), (1929,), (643,))"
      ]
     },
     "execution_count": 123,
     "metadata": {},
     "output_type": "execute_result"
    }
   ],
   "source": [
    "# Carregar o dataset\n",
    "df = pd.read_csv(\"C:/github/Rio-Housing-Scrapper/Data(29-09_2023)/df_cleaned_final.csv\")\n",
    "\n",
    "# Excluir as colunas \"Rent\" e \"Address\"\n",
    "df = df.drop(columns=[\"Rent\", \"Address\"])\n",
    "\n",
    "# Definir variáveis independentes (features) e a variável dependente (target)\n",
    "X = df.drop(\"Total Rent\", axis=1)\n",
    "y = df[\"Total Rent\"]\n",
    "\n",
    "# Dividir os dados em conjuntos de treino e teste (75% treino, 25% teste)\n",
    "X_train, X_test, y_train, y_test = train_test_split(X, y, test_size = 0.25, random_state=42)\n",
    "\n",
    "# Exibir o tamanho dos conjuntos de treino e teste\n",
    "X_train.shape, X_test.shape, y_train.shape, y_test.shape"
   ]
  },
  {
   "cell_type": "code",
   "execution_count": 124,
   "metadata": {},
   "outputs": [
    {
     "name": "stdout",
     "output_type": "stream",
     "text": [
      "MSE: 2332052.6308864625\n",
      "O MSE com validação cruzada foi de: 2122669.030072992\n"
     ]
    }
   ],
   "source": [
    "# Agrupar categorias raras em \"Outros\"\n",
    "\n",
    "# Contar o número de observações para cada categoria\n",
    "category_counts = X_train['Region'].value_counts()\n",
    "\n",
    "# Identificar categorias com menos de 3 observações\n",
    "small_categories = category_counts[category_counts < 2].index\n",
    "\n",
    "# Substituir essas categorias por \"Outros\"\n",
    "X_train['Region'] = X_train['Region'].replace(small_categories, 'Outros')\n",
    "X_test['Region'] = X_test['Region'].replace(small_categories, 'Outros')\n",
    "\n",
    "# Calcular as médias da variável resposta para cada categoria de \"Region\" usando o conjunto de treino\n",
    "region_target_mean = y_train.groupby(X_train['Region']).mean()\n",
    "\n",
    "# Substituir cada categoria em \"Region\" pela média correspondente no conjunto de treino e teste\n",
    "X_train['Region'] = X_train['Region'].map(region_target_mean)\n",
    "X_test['Region'] = X_test['Region'].map(region_target_mean)\n",
    "\n",
    "# Preencher quaisquer valores NaN no conjunto de teste com a média global do conjunto de treino\n",
    "X_test['Region'].fillna(y_train.mean(), inplace=True)\n",
    "\n",
    "# Aplicar codificação one-hot à coluna 'Property Type'\n",
    "X_train = pd.get_dummies(X_train, columns=['Property Type'], drop_first=True)\n",
    "X_test = pd.get_dummies(X_test, columns=['Property Type'], drop_first=True)\n",
    "\n",
    "# Treinar o modelo de regressão linear novamente\n",
    "linear_model = LinearRegression()\n",
    "linear_model.fit(X_train, y_train)\n",
    "\n",
    "# Prever valores no conjunto de teste e calcular MSE\n",
    "y_pred = linear_model.predict(X_test)\n",
    "mse = mean_squared_error(y_test, y_pred)\n",
    "\n",
    "print(\"MSE:\", mse)\n",
    "\n",
    "# Instanciar o modelo\n",
    "model = LinearRegression()\n",
    "\n",
    "# Chamar a função de validação cruzada\n",
    "average_mse = cross_val_mse(model, X, y, n_folds=5)\n",
    "\n",
    "# Exibir o MSE médio\n",
    "print(\"O MSE com validação cruzada foi de:\", average_mse)"
   ]
  },
  {
   "cell_type": "markdown",
   "metadata": {},
   "source": [
    "Treinando esse mesmo modelo com validação cruzada pelo risco de overfitting"
   ]
  },
  {
   "cell_type": "code",
   "execution_count": 125,
   "metadata": {},
   "outputs": [
    {
     "name": "stdout",
     "output_type": "stream",
     "text": [
      "O MSE com validação cruzada foi de: 2122669.030072992\n"
     ]
    }
   ],
   "source": [
    "def cross_val_mse(model, X, y, n_folds=5):\n",
    "    kf = KFold(n_splits = n_folds, shuffle=True, random_state=42)\n",
    "    mse_scores = []\n",
    "\n",
    "    for train_index, test_index in kf.split(X):\n",
    "        X_train_fold, X_test_fold = X.iloc[train_index].copy(), X.iloc[test_index].copy()\n",
    "        y_train_fold, y_test_fold = y.iloc[train_index], y.iloc[test_index]\n",
    "\n",
    "        # Agrupar categorias raras em \"Outros\" no conjunto de treino do fold\n",
    "        category_counts = X_train_fold['Region'].value_counts()\n",
    "        small_categories = category_counts[category_counts < 2].index\n",
    "        X_train_fold.loc[:, 'Region'] = X_train_fold['Region'].replace(small_categories, 'Outros')\n",
    "        X_test_fold.loc[:, 'Region'] = X_test_fold['Region'].replace(small_categories, 'Outros')\n",
    "\n",
    "        # Calcular as médias da variável resposta para cada categoria de \"Region\"\n",
    "        region_target_mean = y_train_fold.groupby(X_train_fold['Region']).mean()\n",
    "        X_train_fold.loc[:, 'Region'] = X_train_fold['Region'].map(region_target_mean)\n",
    "        X_test_fold.loc[:, 'Region'] = X_test_fold['Region'].map(region_target_mean)\n",
    "\n",
    "        # Preencher valores NaN no conjunto de teste com a média global do conjunto de treino\n",
    "        X_test_fold.loc[:, 'Region'].fillna(y_train_fold.mean(), inplace=True)\n",
    "\n",
    "        # Aplicar codificação one-hot à coluna \"Property Type\"\n",
    "        X_train_fold = pd.get_dummies(X_train_fold, columns=['Property Type'], drop_first=True)\n",
    "        X_test_fold = pd.get_dummies(X_test_fold, columns=['Property Type'], drop_first=True)\n",
    "\n",
    "        # Treinar o modelo e calcular MSE\n",
    "        model.fit(X_train_fold, y_train_fold)\n",
    "        y_pred_fold = model.predict(X_test_fold)\n",
    "        mse_fold = mean_squared_error(y_test_fold, y_pred_fold)\n",
    "        mse_scores.append(mse_fold)\n",
    "\n",
    "    # Calcular a média dos MSEs obtidos nos folds\n",
    "    average_mse = np.mean(mse_scores)\n",
    "    return average_mse\n",
    "\n",
    "# Instanciar o modelo\n",
    "model = LinearRegression()\n",
    "\n",
    "# Chamar a função de validação cruzada\n",
    "average_mse = cross_val_mse(model, X, y, n_folds=5)\n",
    "\n",
    "# Exibir o MSE médio\n",
    "print(\"O MSE com validação cruzada foi de:\", average_mse)\n"
   ]
  },
  {
   "cell_type": "code",
   "execution_count": 126,
   "metadata": {},
   "outputs": [
    {
     "data": {
      "text/plain": [
       "{'Lasso': 2122972.7657615454,\n",
       " 'Ridge': 2122798.89779835,\n",
       " 'Elastic Net': 2240460.1620918093,\n",
       " 'Decision Tree': 2826490.1943461397,\n",
       " 'Random Forest': 1816450.6324834763,\n",
       " 'Linear Regression': 2122669.030072992}"
      ]
     },
     "execution_count": 126,
     "metadata": {},
     "output_type": "execute_result"
    }
   ],
   "source": [
    "from sklearn.linear_model import Lasso, Ridge, ElasticNet\n",
    "from sklearn.tree import DecisionTreeRegressor\n",
    "from sklearn.ensemble import RandomForestRegressor\n",
    "\n",
    "# Criar modelos\n",
    "models = {\n",
    "    \"Lasso\": Lasso(),\n",
    "    \"Ridge\": Ridge(),\n",
    "    \"Elastic Net\": ElasticNet(),\n",
    "    \"Decision Tree\": DecisionTreeRegressor(),\n",
    "    \"Random Forest\": RandomForestRegressor(),\n",
    "    \"Linear Regression\": LinearRegression()\n",
    "}\n",
    "\n",
    "# Calcular MSE usando validação cruzada para cada modelo\n",
    "mse_scores = {}\n",
    "for model_name, model in models.items():\n",
    "    mse = cross_val_mse(model, X, y)\n",
    "    mse_scores[model_name] = mse\n",
    "\n",
    "# Exibir os resultados\n",
    "mse_scores\n"
   ]
  },
  {
   "cell_type": "code",
   "execution_count": 127,
   "metadata": {},
   "outputs": [
    {
     "data": {
      "image/png": "[encoded data removed]",
      "text/plain": [
       "<Figure size 1000x600 with 1 Axes>"
      ]
     },
     "metadata": {},
     "output_type": "display_data"
    }
   ],
   "source": [
    "import matplotlib.pyplot as plt\n",
    "\n",
    "# Criar gráfico de barras com os MSEs\n",
    "model_names = list(mse_scores.keys())\n",
    "mse_values = list(mse_scores.values())\n",
    "\n",
    "fig, ax = plt.subplots(figsize=(10, 6))\n",
    "bars = plt.bar(model_names, mse_values, color=['skyblue', 'orange', 'green', 'red', 'purple', 'blue'])\n",
    "plt.xlabel('Modelo')\n",
    "plt.ylabel('MSE')\n",
    "plt.title('Comparação de MSE entre diferentes modelos')\n",
    "plt.xticks(rotation=45, ha='right')\n",
    "plt.tight_layout()\n",
    "\n",
    "# Adicionar os valores de MSE em cima das barras\n",
    "for bar in bars:\n",
    "    yval = bar.get_height()\n",
    "    ax.text(bar.get_x() + bar.get_width() / 2, yval + 1, round(yval, 2), ha='center', va='bottom')\n",
    "\n",
    "plt.show()"
   ]
  },
  {
   "cell_type": "code",
   "execution_count": null,
   "metadata": {},
   "outputs": [],
   "source": [
    "\n"
   ]
  }
 ],
 "metadata": {
  "kernelspec": {
   "display_name": "Python 3",
   "language": "python",
   "name": "python3"
  },
  "language_info": {
   "codemirror_mode": {
    "name": "ipython",
    "version": 3
   },
   "file_extension": ".py",
   "mimetype": "text/x-python",
   "name": "python",
   "nbconvert_exporter": "python",
   "pygments_lexer": "ipython3",
   "version": "3.11.0"
  }
 },
 "nbformat": 4,
 "nbformat_minor": 2
}
