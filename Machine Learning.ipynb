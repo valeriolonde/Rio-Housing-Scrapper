{
 "cells": [
  {
   "cell_type": "markdown",
   "metadata": {},
   "source": []
  },
  {
   "cell_type": "code",
   "execution_count": 249,
   "metadata": {},
   "outputs": [
    {
     "data": {
      "text/html": [
       "<div>\n",
       "<style scoped>\n",
       "    .dataframe tbody tr th:only-of-type {\n",
       "        vertical-align: middle;\n",
       "    }\n",
       "\n",
       "    .dataframe tbody tr th {\n",
       "        vertical-align: top;\n",
       "    }\n",
       "\n",
       "    .dataframe thead th {\n",
       "        text-align: right;\n",
       "    }\n",
       "</style>\n",
       "<table border=\"1\" class=\"dataframe\">\n",
       "  <thead>\n",
       "    <tr style=\"text-align: right;\">\n",
       "      <th></th>\n",
       "      <th>Property Type</th>\n",
       "      <th>Total Rent</th>\n",
       "      <th>Area</th>\n",
       "      <th>Rooms</th>\n",
       "      <th>Bathrooms</th>\n",
       "      <th>Garage</th>\n",
       "      <th>Furnished</th>\n",
       "    </tr>\n",
       "  </thead>\n",
       "  <tbody>\n",
       "    <tr>\n",
       "      <th>0</th>\n",
       "      <td>Apartamento</td>\n",
       "      <td>1368</td>\n",
       "      <td>55</td>\n",
       "      <td>2</td>\n",
       "      <td>1</td>\n",
       "      <td>1.0</td>\n",
       "      <td>0</td>\n",
       "    </tr>\n",
       "    <tr>\n",
       "      <th>1</th>\n",
       "      <td>Apartamento</td>\n",
       "      <td>6012</td>\n",
       "      <td>140</td>\n",
       "      <td>5</td>\n",
       "      <td>2</td>\n",
       "      <td>1.0</td>\n",
       "      <td>1</td>\n",
       "    </tr>\n",
       "    <tr>\n",
       "      <th>2</th>\n",
       "      <td>Apartamento</td>\n",
       "      <td>3198</td>\n",
       "      <td>53</td>\n",
       "      <td>1</td>\n",
       "      <td>1</td>\n",
       "      <td>0.0</td>\n",
       "      <td>0</td>\n",
       "    </tr>\n",
       "    <tr>\n",
       "      <th>3</th>\n",
       "      <td>Apartamento</td>\n",
       "      <td>4075</td>\n",
       "      <td>61</td>\n",
       "      <td>2</td>\n",
       "      <td>1</td>\n",
       "      <td>0.0</td>\n",
       "      <td>0</td>\n",
       "    </tr>\n",
       "    <tr>\n",
       "      <th>4</th>\n",
       "      <td>Apartamento</td>\n",
       "      <td>2649</td>\n",
       "      <td>27</td>\n",
       "      <td>1</td>\n",
       "      <td>1</td>\n",
       "      <td>0.0</td>\n",
       "      <td>0</td>\n",
       "    </tr>\n",
       "  </tbody>\n",
       "</table>\n",
       "</div>"
      ],
      "text/plain": [
       "  Property Type  Total Rent  Area  Rooms  Bathrooms  Garage  Furnished\n",
       "0   Apartamento        1368    55      2          1     1.0          0\n",
       "1   Apartamento        6012   140      5          2     1.0          1\n",
       "2   Apartamento        3198    53      1          1     0.0          0\n",
       "3   Apartamento        4075    61      2          1     0.0          0\n",
       "4   Apartamento        2649    27      1          1     0.0          0"
      ]
     },
     "execution_count": 249,
     "metadata": {},
     "output_type": "execute_result"
    }
   ],
   "source": [
    "import pandas as pd\n",
    "import numpy as np\n",
    "\n",
    "from sklearn.model_selection import train_test_split\n",
    "from sklearn.linear_model import LinearRegression\n",
    "from sklearn.metrics import mean_squared_error\n",
    "from sklearn.pipeline import Pipeline\n",
    "from sklearn.compose import ColumnTransformer\n",
    "from sklearn.preprocessing import StandardScaler, OneHotEncoder\n",
    "from sklearn.linear_model import Ridge, Lasso\n",
    "\n",
    "# Carregar o dataset\n",
    "df = pd.read_csv(\"C:/github/Rio-Housing-Scrapper/Data(29-09_2023)/df_cleaned_final.csv\")\n",
    "\n",
    "# Excluir as colunas \"Rent\" e \"Address\"\n",
    "df = df.drop(columns=[\"Rent\", \"Address\", \"Region\"])\n",
    "\n",
    "# Exibir as primeiras linhas do dataframe\n",
    "df.head()"
   ]
  },
  {
   "cell_type": "code",
   "execution_count": 250,
   "metadata": {},
   "outputs": [
    {
     "data": {
      "text/plain": [
       "((1929, 6), (643, 6), (1929,), (643,))"
      ]
     },
     "execution_count": 250,
     "metadata": {},
     "output_type": "execute_result"
    }
   ],
   "source": [
    "# Definir variáveis independentes (features) e a variável dependente (target)\n",
    "X = df.drop(\"Total Rent\", axis=1)\n",
    "y = df[\"Total Rent\"]\n",
    "\n",
    "# Dividir os dados em conjuntos de treino e teste (75% treino, 25% teste)\n",
    "X_train, X_test, y_train, y_test = train_test_split(X, y, test_size = 0.25, random_state=42)\n",
    "\n",
    "# Exibir o tamanho dos conjuntos de treino e teste\n",
    "X_train.shape, X_test.shape, y_train.shape, y_test.shape"
   ]
  },
  {
   "cell_type": "code",
   "execution_count": 251,
   "metadata": {},
   "outputs": [
    {
     "name": "stdout",
     "output_type": "stream",
     "text": [
      "MSE: 4222621.87842033\n"
     ]
    }
   ],
   "source": [
    "# Aplicar codificação one-hot à coluna 'Property Type'\n",
    "X_train = pd.get_dummies(X_train, columns=['Property Type'], drop_first=True)\n",
    "X_test = pd.get_dummies(X_test, columns=['Property Type'], drop_first=True)\n",
    "\n",
    "# Treinar o modelo de regressão linear novamente\n",
    "linear_model = LinearRegression()\n",
    "linear_model.fit(X_train, y_train)\n",
    "\n",
    "# Prever valores no conjunto de teste e calcular MSE\n",
    "y_pred = linear_model.predict(X_test)\n",
    "mse = mean_squared_error(y_test, y_pred)\n",
    "print(\"MSE:\", mse)\n"
   ]
  },
  {
   "cell_type": "code",
   "execution_count": 252,
   "metadata": {},
   "outputs": [
    {
     "data": {
      "text/plain": [
       "(4223666.3499856815, 4224117.062425409)"
      ]
     },
     "execution_count": 252,
     "metadata": {},
     "output_type": "execute_result"
    }
   ],
   "source": [
    "# Treinar o modelo de Regressão Ridge\n",
    "ridge_model = Ridge()\n",
    "ridge_model.fit(X_train, y_train)\n",
    "\n",
    "# Prever valores no conjunto de teste e calcular MSE para Regressão Ridge\n",
    "y_pred_ridge = ridge_model.predict(X_test)\n",
    "mse_ridge = mean_squared_error(y_test, y_pred_ridge)\n",
    "\n",
    "# Treinar o modelo de Regressão Lasso\n",
    "lasso_model = Lasso()\n",
    "lasso_model.fit(X_train, y_train)\n",
    "\n",
    "# Prever valores no conjunto de teste e calcular MSE para Regressão Lasso\n",
    "y_pred_lasso = lasso_model.predict(X_test)\n",
    "mse_lasso = mean_squared_error(y_test, y_pred_lasso)\n",
    "\n",
    "mse_ridge, mse_lasso"
   ]
  },
  {
   "cell_type": "markdown",
   "metadata": {},
   "source": [
    "Tratar agora considerando região"
   ]
  },
  {
   "cell_type": "code",
   "execution_count": 253,
   "metadata": {},
   "outputs": [
    {
     "data": {
      "text/plain": [
       "((1929, 7), (643, 7), (1929,), (643,))"
      ]
     },
     "execution_count": 253,
     "metadata": {},
     "output_type": "execute_result"
    }
   ],
   "source": [
    "# Carregar o dataset\n",
    "df = pd.read_csv(\"C:/github/Rio-Housing-Scrapper/Data(29-09_2023)/df_cleaned_final.csv\")\n",
    "\n",
    "# Excluir as colunas \"Rent\" e \"Address\"\n",
    "df = df.drop(columns=[\"Rent\", \"Address\"])\n",
    "\n",
    "# Definir variáveis independentes (features) e a variável dependente (target)\n",
    "X = df.drop(\"Total Rent\", axis=1)\n",
    "y = df[\"Total Rent\"]\n",
    "\n",
    "# Dividir os dados em conjuntos de treino e teste (75% treino, 25% teste)\n",
    "X_train, X_test, y_train, y_test = train_test_split(X, y, test_size = 0.25, random_state=42)\n",
    "\n",
    "# Exibir o tamanho dos conjuntos de treino e teste\n",
    "X_train.shape, X_test.shape, y_train.shape, y_test.shape"
   ]
  },
  {
   "cell_type": "code",
   "execution_count": 254,
   "metadata": {},
   "outputs": [
    {
     "data": {
      "text/plain": [
       "Region\n",
       "Abolição           1317.916667\n",
       "Andaraí            3283.625000\n",
       "Anil               2998.709677\n",
       "Barra da Tijuca    9023.945455\n",
       "Benfica            1980.500000\n",
       "                      ...     \n",
       "Vila Valqueire     2251.076923\n",
       "Vila da Penha      1912.722222\n",
       "Vista Alegre       1612.714286\n",
       "Váz Lobo           1218.555556\n",
       "Água Santa         1212.000000\n",
       "Name: Total Rent, Length: 113, dtype: float64"
      ]
     },
     "execution_count": 254,
     "metadata": {},
     "output_type": "execute_result"
    }
   ],
   "source": [
    "# Calcular as médias da variável resposta para cada categoria de \"Region\" usando o conjunto de treino\n",
    "region_target_mean = y_train.groupby(X_train['Region']).mean()\n",
    "\n",
    "region_target_mean\n"
   ]
  },
  {
   "cell_type": "code",
   "execution_count": 255,
   "metadata": {},
   "outputs": [
    {
     "name": "stdout",
     "output_type": "stream",
     "text": [
      "MSE: 2291456.1900715767\n"
     ]
    }
   ],
   "source": [
    "# Substituir cada categoria em \"Region\" pela média correspondente no conjunto de treino e teste\n",
    "X_train['Region'] = X_train['Region'].map(region_target_mean)\n",
    "X_test['Region'] = X_test['Region'].map(region_target_mean)\n",
    "\n",
    "# Preencher quaisquer valores NaN no conjunto de teste com a média global do conjunto de treino (para regiões não vistas no treino)\n",
    "X_test['Region'].fillna(y_train.mean(), inplace=True)\n",
    "\n",
    "# Verificar as primeiras linhas dos conjuntos de treino e teste após o Target Encoding\n",
    "X_train.head(), X_test.head()\n",
    "\n",
    "# Aplicar codificação one-hot à coluna 'Property Type'\n",
    "X_train = pd.get_dummies(X_train, columns=['Property Type'], drop_first=True)\n",
    "X_test = pd.get_dummies(X_test, columns=['Property Type'], drop_first=True)\n",
    "\n",
    "# Treinar o modelo de regressão linear novamente\n",
    "linear_model = LinearRegression()\n",
    "linear_model.fit(X_train, y_train)\n",
    "\n",
    "# Prever valores no conjunto de teste e calcular MSE\n",
    "y_pred = linear_model.predict(X_test)\n",
    "mse = mean_squared_error(y_test, y_pred)\n",
    "\n",
    "print(\"MSE:\", mse)"
   ]
  },
  {
   "cell_type": "markdown",
   "metadata": {},
   "source": [
    "Treinando esse mesmo modelo com validação cruzada pelo risco de overfitting"
   ]
  },
  {
   "cell_type": "code",
   "execution_count": 256,
   "metadata": {},
   "outputs": [
    {
     "name": "stderr",
     "output_type": "stream",
     "text": [
      "C:\\Users\\Cliente\\AppData\\Local\\Temp\\ipykernel_18128\\3522411572.py:21: SettingWithCopyWarning: \n",
      "A value is trying to be set on a copy of a slice from a DataFrame.\n",
      "Try using .loc[row_indexer,col_indexer] = value instead\n",
      "\n",
      "See the caveats in the documentation: https://pandas.pydata.org/pandas-docs/stable/user_guide/indexing.html#returning-a-view-versus-a-copy\n",
      "  X_train_fold.loc[:, 'Region'] = X_train_fold['Region'].map(region_target_mean)\n",
      "C:\\Users\\Cliente\\AppData\\Local\\Temp\\ipykernel_18128\\3522411572.py:21: DeprecationWarning: In a future version, `df.iloc[:, i] = newvals` will attempt to set the values inplace instead of always setting a new array. To retain the old behavior, use either `df[df.columns[i]] = newvals` or, if columns are non-unique, `df.isetitem(i, newvals)`\n",
      "  X_train_fold.loc[:, 'Region'] = X_train_fold['Region'].map(region_target_mean)\n",
      "C:\\Users\\Cliente\\AppData\\Local\\Temp\\ipykernel_18128\\3522411572.py:22: SettingWithCopyWarning: \n",
      "A value is trying to be set on a copy of a slice from a DataFrame.\n",
      "Try using .loc[row_indexer,col_indexer] = value instead\n",
      "\n",
      "See the caveats in the documentation: https://pandas.pydata.org/pandas-docs/stable/user_guide/indexing.html#returning-a-view-versus-a-copy\n",
      "  X_test_fold.loc[:, 'Region'] = X_test_fold['Region'].map(region_target_mean)\n",
      "C:\\Users\\Cliente\\AppData\\Local\\Temp\\ipykernel_18128\\3522411572.py:22: DeprecationWarning: In a future version, `df.iloc[:, i] = newvals` will attempt to set the values inplace instead of always setting a new array. To retain the old behavior, use either `df[df.columns[i]] = newvals` or, if columns are non-unique, `df.isetitem(i, newvals)`\n",
      "  X_test_fold.loc[:, 'Region'] = X_test_fold['Region'].map(region_target_mean)\n",
      "C:\\Users\\Cliente\\AppData\\Local\\Temp\\ipykernel_18128\\3522411572.py:25: SettingWithCopyWarning: \n",
      "A value is trying to be set on a copy of a slice from a DataFrame\n",
      "\n",
      "See the caveats in the documentation: https://pandas.pydata.org/pandas-docs/stable/user_guide/indexing.html#returning-a-view-versus-a-copy\n",
      "  X_test_fold['Region'].fillna(y_train_fold.mean(), inplace=True)\n",
      "C:\\Users\\Cliente\\AppData\\Local\\Temp\\ipykernel_18128\\3522411572.py:21: SettingWithCopyWarning: \n",
      "A value is trying to be set on a copy of a slice from a DataFrame.\n",
      "Try using .loc[row_indexer,col_indexer] = value instead\n",
      "\n",
      "See the caveats in the documentation: https://pandas.pydata.org/pandas-docs/stable/user_guide/indexing.html#returning-a-view-versus-a-copy\n",
      "  X_train_fold.loc[:, 'Region'] = X_train_fold['Region'].map(region_target_mean)\n",
      "C:\\Users\\Cliente\\AppData\\Local\\Temp\\ipykernel_18128\\3522411572.py:21: DeprecationWarning: In a future version, `df.iloc[:, i] = newvals` will attempt to set the values inplace instead of always setting a new array. To retain the old behavior, use either `df[df.columns[i]] = newvals` or, if columns are non-unique, `df.isetitem(i, newvals)`\n",
      "  X_train_fold.loc[:, 'Region'] = X_train_fold['Region'].map(region_target_mean)\n",
      "C:\\Users\\Cliente\\AppData\\Local\\Temp\\ipykernel_18128\\3522411572.py:22: SettingWithCopyWarning: \n",
      "A value is trying to be set on a copy of a slice from a DataFrame.\n",
      "Try using .loc[row_indexer,col_indexer] = value instead\n",
      "\n",
      "See the caveats in the documentation: https://pandas.pydata.org/pandas-docs/stable/user_guide/indexing.html#returning-a-view-versus-a-copy\n",
      "  X_test_fold.loc[:, 'Region'] = X_test_fold['Region'].map(region_target_mean)\n",
      "C:\\Users\\Cliente\\AppData\\Local\\Temp\\ipykernel_18128\\3522411572.py:22: DeprecationWarning: In a future version, `df.iloc[:, i] = newvals` will attempt to set the values inplace instead of always setting a new array. To retain the old behavior, use either `df[df.columns[i]] = newvals` or, if columns are non-unique, `df.isetitem(i, newvals)`\n",
      "  X_test_fold.loc[:, 'Region'] = X_test_fold['Region'].map(region_target_mean)\n",
      "C:\\Users\\Cliente\\AppData\\Local\\Temp\\ipykernel_18128\\3522411572.py:25: SettingWithCopyWarning: \n",
      "A value is trying to be set on a copy of a slice from a DataFrame\n",
      "\n",
      "See the caveats in the documentation: https://pandas.pydata.org/pandas-docs/stable/user_guide/indexing.html#returning-a-view-versus-a-copy\n",
      "  X_test_fold['Region'].fillna(y_train_fold.mean(), inplace=True)\n",
      "C:\\Users\\Cliente\\AppData\\Local\\Temp\\ipykernel_18128\\3522411572.py:21: SettingWithCopyWarning: \n",
      "A value is trying to be set on a copy of a slice from a DataFrame.\n",
      "Try using .loc[row_indexer,col_indexer] = value instead\n",
      "\n",
      "See the caveats in the documentation: https://pandas.pydata.org/pandas-docs/stable/user_guide/indexing.html#returning-a-view-versus-a-copy\n",
      "  X_train_fold.loc[:, 'Region'] = X_train_fold['Region'].map(region_target_mean)\n",
      "C:\\Users\\Cliente\\AppData\\Local\\Temp\\ipykernel_18128\\3522411572.py:21: DeprecationWarning: In a future version, `df.iloc[:, i] = newvals` will attempt to set the values inplace instead of always setting a new array. To retain the old behavior, use either `df[df.columns[i]] = newvals` or, if columns are non-unique, `df.isetitem(i, newvals)`\n",
      "  X_train_fold.loc[:, 'Region'] = X_train_fold['Region'].map(region_target_mean)\n",
      "C:\\Users\\Cliente\\AppData\\Local\\Temp\\ipykernel_18128\\3522411572.py:22: SettingWithCopyWarning: \n",
      "A value is trying to be set on a copy of a slice from a DataFrame.\n",
      "Try using .loc[row_indexer,col_indexer] = value instead\n",
      "\n",
      "See the caveats in the documentation: https://pandas.pydata.org/pandas-docs/stable/user_guide/indexing.html#returning-a-view-versus-a-copy\n",
      "  X_test_fold.loc[:, 'Region'] = X_test_fold['Region'].map(region_target_mean)\n",
      "C:\\Users\\Cliente\\AppData\\Local\\Temp\\ipykernel_18128\\3522411572.py:22: DeprecationWarning: In a future version, `df.iloc[:, i] = newvals` will attempt to set the values inplace instead of always setting a new array. To retain the old behavior, use either `df[df.columns[i]] = newvals` or, if columns are non-unique, `df.isetitem(i, newvals)`\n",
      "  X_test_fold.loc[:, 'Region'] = X_test_fold['Region'].map(region_target_mean)\n",
      "C:\\Users\\Cliente\\AppData\\Local\\Temp\\ipykernel_18128\\3522411572.py:25: SettingWithCopyWarning: \n",
      "A value is trying to be set on a copy of a slice from a DataFrame\n",
      "\n",
      "See the caveats in the documentation: https://pandas.pydata.org/pandas-docs/stable/user_guide/indexing.html#returning-a-view-versus-a-copy\n",
      "  X_test_fold['Region'].fillna(y_train_fold.mean(), inplace=True)\n",
      "C:\\Users\\Cliente\\AppData\\Local\\Temp\\ipykernel_18128\\3522411572.py:21: SettingWithCopyWarning: \n",
      "A value is trying to be set on a copy of a slice from a DataFrame.\n",
      "Try using .loc[row_indexer,col_indexer] = value instead\n",
      "\n",
      "See the caveats in the documentation: https://pandas.pydata.org/pandas-docs/stable/user_guide/indexing.html#returning-a-view-versus-a-copy\n",
      "  X_train_fold.loc[:, 'Region'] = X_train_fold['Region'].map(region_target_mean)\n",
      "C:\\Users\\Cliente\\AppData\\Local\\Temp\\ipykernel_18128\\3522411572.py:21: DeprecationWarning: In a future version, `df.iloc[:, i] = newvals` will attempt to set the values inplace instead of always setting a new array. To retain the old behavior, use either `df[df.columns[i]] = newvals` or, if columns are non-unique, `df.isetitem(i, newvals)`\n",
      "  X_train_fold.loc[:, 'Region'] = X_train_fold['Region'].map(region_target_mean)\n",
      "C:\\Users\\Cliente\\AppData\\Local\\Temp\\ipykernel_18128\\3522411572.py:22: SettingWithCopyWarning: \n",
      "A value is trying to be set on a copy of a slice from a DataFrame.\n",
      "Try using .loc[row_indexer,col_indexer] = value instead\n",
      "\n",
      "See the caveats in the documentation: https://pandas.pydata.org/pandas-docs/stable/user_guide/indexing.html#returning-a-view-versus-a-copy\n",
      "  X_test_fold.loc[:, 'Region'] = X_test_fold['Region'].map(region_target_mean)\n",
      "C:\\Users\\Cliente\\AppData\\Local\\Temp\\ipykernel_18128\\3522411572.py:22: DeprecationWarning: In a future version, `df.iloc[:, i] = newvals` will attempt to set the values inplace instead of always setting a new array. To retain the old behavior, use either `df[df.columns[i]] = newvals` or, if columns are non-unique, `df.isetitem(i, newvals)`\n",
      "  X_test_fold.loc[:, 'Region'] = X_test_fold['Region'].map(region_target_mean)\n",
      "C:\\Users\\Cliente\\AppData\\Local\\Temp\\ipykernel_18128\\3522411572.py:25: SettingWithCopyWarning: \n",
      "A value is trying to be set on a copy of a slice from a DataFrame\n",
      "\n",
      "See the caveats in the documentation: https://pandas.pydata.org/pandas-docs/stable/user_guide/indexing.html#returning-a-view-versus-a-copy\n",
      "  X_test_fold['Region'].fillna(y_train_fold.mean(), inplace=True)\n",
      "C:\\Users\\Cliente\\AppData\\Local\\Temp\\ipykernel_18128\\3522411572.py:21: SettingWithCopyWarning: \n",
      "A value is trying to be set on a copy of a slice from a DataFrame.\n",
      "Try using .loc[row_indexer,col_indexer] = value instead\n",
      "\n",
      "See the caveats in the documentation: https://pandas.pydata.org/pandas-docs/stable/user_guide/indexing.html#returning-a-view-versus-a-copy\n",
      "  X_train_fold.loc[:, 'Region'] = X_train_fold['Region'].map(region_target_mean)\n",
      "C:\\Users\\Cliente\\AppData\\Local\\Temp\\ipykernel_18128\\3522411572.py:21: DeprecationWarning: In a future version, `df.iloc[:, i] = newvals` will attempt to set the values inplace instead of always setting a new array. To retain the old behavior, use either `df[df.columns[i]] = newvals` or, if columns are non-unique, `df.isetitem(i, newvals)`\n",
      "  X_train_fold.loc[:, 'Region'] = X_train_fold['Region'].map(region_target_mean)\n",
      "C:\\Users\\Cliente\\AppData\\Local\\Temp\\ipykernel_18128\\3522411572.py:22: SettingWithCopyWarning: \n",
      "A value is trying to be set on a copy of a slice from a DataFrame.\n",
      "Try using .loc[row_indexer,col_indexer] = value instead\n",
      "\n",
      "See the caveats in the documentation: https://pandas.pydata.org/pandas-docs/stable/user_guide/indexing.html#returning-a-view-versus-a-copy\n",
      "  X_test_fold.loc[:, 'Region'] = X_test_fold['Region'].map(region_target_mean)\n",
      "C:\\Users\\Cliente\\AppData\\Local\\Temp\\ipykernel_18128\\3522411572.py:22: DeprecationWarning: In a future version, `df.iloc[:, i] = newvals` will attempt to set the values inplace instead of always setting a new array. To retain the old behavior, use either `df[df.columns[i]] = newvals` or, if columns are non-unique, `df.isetitem(i, newvals)`\n",
      "  X_test_fold.loc[:, 'Region'] = X_test_fold['Region'].map(region_target_mean)\n",
      "C:\\Users\\Cliente\\AppData\\Local\\Temp\\ipykernel_18128\\3522411572.py:25: SettingWithCopyWarning: \n",
      "A value is trying to be set on a copy of a slice from a DataFrame\n",
      "\n",
      "See the caveats in the documentation: https://pandas.pydata.org/pandas-docs/stable/user_guide/indexing.html#returning-a-view-versus-a-copy\n",
      "  X_test_fold['Region'].fillna(y_train_fold.mean(), inplace=True)\n"
     ]
    },
    {
     "data": {
      "text/plain": [
       "2136019.2173908777"
      ]
     },
     "execution_count": 256,
     "metadata": {},
     "output_type": "execute_result"
    }
   ],
   "source": [
    "from sklearn.model_selection import KFold, cross_val_score\n",
    "\n",
    "# Função para calcular o MSE usando validação cruzada\n",
    "def cross_val_mse(model, X, y, n_folds=5):\n",
    "    kf = KFold(n_splits=n_folds, shuffle=True, random_state=42)\n",
    "    mse_scores = -cross_val_score(model, X, y, cv=kf, scoring='neg_mean_squared_error')\n",
    "    return mse_scores.mean()\n",
    "\n",
    "# Aplicar Target Encoding dentro da validação cruzada\n",
    "kf = KFold(n_splits=5, shuffle=True, random_state=42)\n",
    "mse_scores = []\n",
    "\n",
    "for train_index, test_index in kf.split(X):\n",
    "    X_train_fold, X_test_fold = X.iloc[train_index], X.iloc[test_index]\n",
    "    y_train_fold, y_test_fold = y.iloc[train_index], y.iloc[test_index]\n",
    "    \n",
    "    # Calcular médias da variável resposta para cada categoria de \"Region\" no conjunto de treino do fold\n",
    "    region_target_mean = y_train_fold.groupby(X_train_fold['Region']).mean()\n",
    "    \n",
    "    # Substituir cada categoria em \"Region\" pela média correspondente nos conjuntos de treino e teste do fold\n",
    "    X_train_fold.loc[:, 'Region'] = X_train_fold['Region'].map(region_target_mean)\n",
    "    X_test_fold.loc[:, 'Region'] = X_test_fold['Region'].map(region_target_mean)\n",
    "    \n",
    "    # Preencher valores NaN no conjunto de teste com a média global do conjunto de treino\n",
    "    X_test_fold['Region'].fillna(y_train_fold.mean(), inplace=True)\n",
    "    \n",
    "    # Aplicar codificação one-hot à coluna \"Property Type\"\n",
    "    X_train_fold = pd.get_dummies(X_train_fold, columns=['Property Type'], drop_first=True)\n",
    "    X_test_fold = pd.get_dummies(X_test_fold, columns=['Property Type'], drop_first=True)\n",
    "    \n",
    "    # Treinar o modelo e calcular MSE\n",
    "    model = LinearRegression()\n",
    "    model.fit(X_train_fold, y_train_fold)\n",
    "    y_pred_fold = model.predict(X_test_fold)\n",
    "    mse_fold = mean_squared_error(y_test_fold, y_pred_fold)\n",
    "    mse_scores.append(mse_fold)\n",
    "\n",
    "\n",
    "# Calcular a média dos MSEs obtidos nos folds\n",
    "average_mse = sum(mse_scores) / len(mse_scores)\n",
    "average_mse"
   ]
  }
 ],
 "metadata": {
  "kernelspec": {
   "display_name": "Python 3",
   "language": "python",
   "name": "python3"
  },
  "language_info": {
   "codemirror_mode": {
    "name": "ipython",
    "version": 3
   },
   "file_extension": ".py",
   "mimetype": "text/x-python",
   "name": "python",
   "nbconvert_exporter": "python",
   "pygments_lexer": "ipython3",
   "version": "3.11.0"
  }
 },
 "nbformat": 4,
 "nbformat_minor": 2
}
